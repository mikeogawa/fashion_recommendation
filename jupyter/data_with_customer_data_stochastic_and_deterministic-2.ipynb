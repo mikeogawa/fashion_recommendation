{
 "cells": [
  {
   "cell_type": "markdown",
   "metadata": {},
   "source": [
    "# Introduction\n",
    "\n",
    "In this Project, we will demonstrate how to use deep reinforcement learning to recommend good pairs of t-shirts and jeans to customers.  \n",
    "\n",
    "### Problem\n",
    "\n",
    "**Recommend users colored t-shirt and jeans that match their taste**\n",
    "\n",
    "\n",
    "### Key Assumption\n",
    "\n",
    "Here we will base our assumption based on the following:   \n",
    "- Users will be recommended colors of t-shirts and jeans, sequentially.\n",
    "- If the color does not match the user's taste, the the user will ask for another recommendation.\n",
    "- The recommendation system will recommend another color until the color matches the user's taste.\n",
    "\n",
    "### Detailed Assumption\n",
    "\n",
    "Here we will define the problem base on the following assumption:\n",
    "- The recommendation system will propose multiple colors of t-shirts, and then jeans.\n",
    "- After both are finished, episode terminates.\n",
    "- User's will not quite when asking for recommendation.\n",
    "- User's can be grouped into A and B, and each group has a taste distrubtion.\n",
    "- User's are defined based on 3 features.\n",
    "- User's will likely choose the color of their jeans that matches their t-shirt.\n",
    "- 6 colors will exist for t-shirts and jeans, respectively.\n",
    "- If the color matches the user's taste, we give a reward of +1, else -1.   \n",
    "    ex)    \n",
    "    If t-shirt and jeans were successfully recommended without making any mistakes, +2 reward is given.   \n",
    "    If both used all actions to guess user's taste, then total reward of -10 in episode is given.\n",
    "\n",
    "- If the color matches the user's taste, then it will change its target clothes.   \n",
    "    ex)   \n",
    "    If t-shirt recommendation succeeds, the recommendation system will recommend jeans.   \n",
    "    If jeans succeed, it will terminate the episode\n",
    "\n",
    "**Note**\n",
    "This notebook is based on groups choosing colors **stochastically/deterministically**.   \n",
    "Users will have different taste within a group but will deterministically choose the same color shirt.\n"
   ]
  },
  {
   "cell_type": "markdown",
   "metadata": {},
   "source": [
    "http://www.lamda.nju.edu.cn/yuy/GetFile.aspx?File=papers/kdd18-RobustDQN.pdf&AspxAutoDetectCookieSupport=1"
   ]
  },
  {
   "cell_type": "code",
   "execution_count": 1,
   "metadata": {},
   "outputs": [],
   "source": [
    "import random\n",
    "import numpy as np\n",
    "random.seed(123)\n",
    "np.random.seed(123)"
   ]
  },
  {
   "cell_type": "code",
   "execution_count": 2,
   "metadata": {},
   "outputs": [],
   "source": [
    "sample_data=1000"
   ]
  },
  {
   "cell_type": "markdown",
   "metadata": {},
   "source": [
    "# 1. Generating Data"
   ]
  },
  {
   "cell_type": "markdown",
   "metadata": {},
   "source": [
    "## People Data"
   ]
  },
  {
   "cell_type": "markdown",
   "metadata": {},
   "source": [
    "Here, we will generate user's unique data with 3 features.   \n",
    "We will generate x1 as Group A's data and x2 as Group B's data."
   ]
  },
  {
   "cell_type": "code",
   "execution_count": 3,
   "metadata": {},
   "outputs": [],
   "source": [
    "x1=np.random.normal(-1,0.3,(sample_data//2,3))\n",
    "x2=np.random.normal(1,0.3,(sample_data//2,3))"
   ]
  },
  {
   "cell_type": "markdown",
   "metadata": {},
   "source": [
    "## T-shirt and Jeans Consuming Probability"
   ]
  },
  {
   "cell_type": "markdown",
   "metadata": {},
   "source": [
    "In this section, we will generate purchase probability for groups A and B.   \n",
    "Here, we will assume users can choose 6 different colored t-shirt and jeans."
   ]
  },
  {
   "cell_type": "code",
   "execution_count": 4,
   "metadata": {},
   "outputs": [],
   "source": [
    "p1=np.array([0.9,0.02,0.02,0.02,0.02,0.02])\n",
    "p2=np.array([0.02,0.9,0.02,0.02,0.02,0.02])\n",
    "\n",
    "\n",
    "def shirt(idx):\n",
    "    pr=p1 if idx==0 else p2\n",
    "    pr = pr/pr.sum()\n",
    "    return np.random.choice(len(p1),p=pr)\n",
    "\n",
    "# if customer buys certain colored shirt, the customer will have a high probability of buying the same colored jeans\n",
    "def jeans(idx):\n",
    "    p_=np.zeros((len(p1),))\n",
    "    p_[idx]=1\n",
    "    pr=np.where(p_==1,0.8,0.0)\n",
    "    pr = pr/pr.sum()\n",
    "    return np.random.choice(len(p1),p=pr)\n",
    "\n",
    "# generates data\n",
    "def out_data_prob(idx,size):\n",
    "    res = np.zeros((size,2))\n",
    "    for i in range(size):\n",
    "        r=shirt(idx)\n",
    "        j=jeans(r)\n",
    "        res[i,0]=r\n",
    "        res[i,1]=j\n",
    "    return res\n",
    "    \n",
    "\n",
    "z1=out_data_prob(0,sample_data//2)\n",
    "z2=out_data_prob(1,sample_data//2)"
   ]
  },
  {
   "cell_type": "markdown",
   "metadata": {},
   "source": [
    "## Merging 2 "
   ]
  },
  {
   "cell_type": "code",
   "execution_count": 5,
   "metadata": {},
   "outputs": [],
   "source": [
    "r1=np.concatenate((x1,z1),axis=1)\n",
    "r2=np.concatenate((x2,z2),axis=1)\n",
    "\n",
    "dataset=np.concatenate([r1,r2],axis=0)"
   ]
  },
  {
   "cell_type": "markdown",
   "metadata": {},
   "source": [
    "# 2. Modifying Filter of RenomRL"
   ]
  },
  {
   "cell_type": "code",
   "execution_count": 6,
   "metadata": {},
   "outputs": [],
   "source": [
    "def softmax(a):\n",
    "    c = np.max(a)\n",
    "    exp_a = np.exp(a - c)\n",
    "    sum_exp_a = np.sum(exp_a)\n",
    "    y = exp_a / sum_exp_a\n",
    "\n",
    "    return y \n"
   ]
  },
  {
   "cell_type": "code",
   "execution_count": 7,
   "metadata": {},
   "outputs": [],
   "source": [
    "from renom_rl.utility.filter import DiscreteNodeChooser\n",
    "from renom_rl.utility.fixer import transform_node_2_numpy\n",
    "\n",
    "class MaskMaxNodeChooser(DiscreteNodeChooser):\n",
    "\n",
    "    \n",
    "    def __call__(self,x,y):\n",
    "        return self.forward(x,y)\n",
    "    \n",
    "    def forward(self, node_var, mask):\n",
    "\n",
    "        node_var = transform_node_2_numpy(node_var)\n",
    "        \n",
    "        res = softmax(node_var - np.where(mask[None,...],0,100000))\n",
    "\n",
    "        max_list = np.argmax(res, axis=1).reshape((-1, 1))\n",
    "        \n",
    "        if len(max_list) == 1:\n",
    "            return int(max_list)\n",
    "        else:\n",
    "            return max_list"
   ]
  },
  {
   "cell_type": "markdown",
   "metadata": {},
   "source": [
    "# 3. Import and Modify ReNomRL's DQN"
   ]
  },
  {
   "cell_type": "markdown",
   "metadata": {},
   "source": [
    "Here we will use ReNom RL and modify it.   \n",
    "For this recommendation system, we will use DQN.   \n",
    "To simplify what DQN is, DQN is an algorithm that chooses action based on expected future reward.   \n",
    "It explores action using epsilon greedy algorithm.   \n",
    "Exploitation and exploration rate shifts based on how much steps the agent takes.   \n",
    "For this example, we gradually shift the action decision from exploration to exploitation by steps.   \n",
    "For further understanding, go to renom.jp.   "
   ]
  },
  {
   "cell_type": "code",
   "execution_count": 8,
   "metadata": {},
   "outputs": [],
   "source": [
    "#!/usr/bin/env python\n",
    "# -*- coding: utf-8 -*-\n",
    "\n",
    "import copy\n",
    "import numpy as np\n",
    "from warnings import warn\n",
    "from numbers import Number\n",
    "import inspect\n",
    "import renom as rm\n",
    "\n",
    "from renom_rl.utility.replaybuffer import ReplayBuffer\n",
    "from renom_rl import AgentBase\n",
    "from renom_rl.environ.env import BaseEnv\n",
    "from renom_rl.utility.gradients import GradientClipping\n",
    "from renom_rl.utility.filter import EpsilonGreedyFilter, EpsilonSLFilter, EpsilonCFilter, DiscreteNodeChooser, ProbNodeChooser, MaxNodeChooser\n",
    "from renom_rl.utility.logger import Logger, DQNLogger, AVAILABLE_KEYS\n",
    "from renom_rl.utility.fixer import fix_envs_testenvs, fix_single_env, fix_optimizer,\\\n",
    "    fix_action_range, check_shape, check_reset_method, check_output_state, \\\n",
    "    check_step_method, fix_logger, fix_tuple_shape, fix_instance, fix_loss_function, fix_instance2, \\\n",
    "    ArgumentCheck, decorator, test_decorator\n",
    "from renom_rl.utility.additional_modules import deepcopy\n",
    "\n",
    "_dqn_keys = AVAILABLE_KEYS[\"dqn\"][\"logger\"]\n",
    "_dqn_keys_epoch = AVAILABLE_KEYS[\"dqn\"][\"logger_epoch\"]\n",
    "\n",
    "\n",
    "class DQN(AgentBase):\n",
    "\n",
    "    def __init__(self, env, q_network, logger=None,\n",
    "                 batch_size=32, update_period=10000, train_frequency=4,\n",
    "                 optimizer=None, gamma=0.99, buffer=None,\n",
    "                 node_selector=None, test_node_selector=None,\n",
    "                 action_filter=None, test_action_filter=None,\n",
    "                 gradient_clipping=None, loss_func=None, initialize=True):\n",
    "\n",
    "        super(DQN, self).__init__()\n",
    "        local_init = locals()\n",
    "        self._arg_check = ArgumentCheck(list(local_init.keys()), remove=[\n",
    "                                        \"__class__\", \"self\", \"env\", \"q_network\", \"logger\"])\n",
    "\n",
    "        kwargs_set = lambda **kwargs: kwargs\n",
    "        self._arg_base = kwargs_set(batch_size=[None, int, fix_instance2, {\"positive\": True, \"non_neg\": True}],\n",
    "                                    update_period=[None, int, fix_instance2,\n",
    "                                                   {\"positive\": True, \"non_neg\": True}],\n",
    "                                    train_frequency=[None, int, fix_instance2,\n",
    "                                                     {\"positive\": True, \"non_neg\": True}],\n",
    "                                    optimizer=[rm.Rmsprop(lr=0.00025, g=0.95),\n",
    "                                               rm.Optimizer, fix_instance],\n",
    "                                    gamma=[None, float, fix_instance2, {\n",
    "                                        \"positive\": True, \"range\": [0., 1.]}],\n",
    "                                    buffer=[ReplayBuffer(), ReplayBuffer, fix_instance],\n",
    "                                    node_selector=[\n",
    "                                        MaskMaxNodeChooser(), DiscreteNodeChooser, fix_instance],\n",
    "                                    test_node_selector=[\n",
    "                                        MaskMaxNodeChooser(), DiscreteNodeChooser, fix_instance],\n",
    "                                    action_filter=[EpsilonSLFilter(epsilon_step=int(\n",
    "                                        0.8 * 50000)), EpsilonGreedyFilter, fix_instance],\n",
    "                                    test_action_filter=[\n",
    "                                        EpsilonCFilter(), EpsilonGreedyFilter, fix_instance],\n",
    "                                    gradient_clipping=[None, GradientClipping, fix_instance],\n",
    "                                    loss_func=[rm.ClippedMeanSquaredError(), None, fix_instance],\n",
    "                                    initialize=[None, bool, fix_instance2],\n",
    "                                    )\n",
    "        # Set Models.\n",
    "        self._q_network = fix_instance(q_network, None, rm.Model, \"q_network\")\n",
    "        self._target_q_network = deepcopy(self._q_network)\n",
    "        self._best_q_network = deepcopy(self._q_network)\n",
    "        # logger\n",
    "        self._logger = fix_logger(logger, _dqn_keys, _dqn_keys_epoch, DQNLogger())\n",
    "        # Check Env class type.\n",
    "        envs, test_env = fix_envs_testenvs(env)\n",
    "        self._env, self._test_env, state_shape, action_shape = fix_single_env(envs, test_env)\n",
    "\n",
    "\n",
    "        # Set common params\n",
    "        res = self._fixer(local_init)\n",
    "        for k, v in res.items():\n",
    "            self._arg_base[k][0] = v\n",
    "            self._arg_base[k][2] = fix_instance\n",
    "            self.__dict__[\"_%s\" % k] = v\n",
    "        self._loss_func = fix_loss_function(loss_func, rm.ClippedMeanSquaredError())\n",
    "        _ = self._buffer([1, ], state_shape)\n",
    "\n",
    "        # Reset Model\n",
    "        if initialize:\n",
    "            self._initializer()\n",
    "\n",
    "        # action_filter_during_fit\n",
    "        self._action_filter_during_fit = self._action_filter\n",
    "\n",
    "        # private info\n",
    "        self._private_info = {**local_init, **{k: v[0] for k, v in self._arg_base.items()}}\n",
    "        self._private_info_test = self._push_test_info()\n",
    "\n",
    "    def _initializer(self):\n",
    "        '''Target q-network is initialized with same neural network weights of q-network.'''\n",
    "        # Reset weight.\n",
    "#         for layer in self._q_network.iter_models():\n",
    "#             if hasattr(layer, \"params\"):\n",
    "#                 layer.params = {}\n",
    "\n",
    "#         for layer in list(self._target_q_network.iter_models()):\n",
    "#             if hasattr(layer, \"params\"):\n",
    "#                 layer.params = {}\n",
    "\n",
    "\n",
    "    def _action(self, state, node_selector, env):\n",
    "        \"\"\"This method returns an action according to the given state.\n",
    "        \"\"\"\n",
    "        self._q_network.set_models(inference=True)\n",
    "        act = self._q_network(np.array([state for _ in range(*env.action_shape)]), np.array(np.arange(*env.action_shape)).reshape(-1,1))\n",
    "        act = act.reshape(1,-1)\n",
    "        return node_selector(act,env.mask())\n",
    "\n",
    "    def _rec_copy(self, obj1, obj2):\n",
    "        \"\"\"This function copies the batch normalization parameters\"\"\"\n",
    "        for item_keys in obj1.__dict__.keys():\n",
    "            if isinstance(obj1.__dict__[item_keys], rm.BatchNormalize):\n",
    "                obj1.__dict__[item_keys]._mov_mean = obj2.__dict__[item_keys]._mov_mean\n",
    "                obj1.__dict__[item_keys]._mov_std = obj2.__dict__[item_keys]._mov_std\n",
    "            elif isinstance(obj1.__dict__[item_keys], rm.Model):\n",
    "                self._rec_copy(obj1.__dict__[item_keys], obj2.__dict__[item_keys])\n",
    "\n",
    "    def _update(self):\n",
    "        \"\"\"This function updates target network.\"\"\"\n",
    "        # A(B) Copy B to A.\n",
    "        self._target_q_network.copy_params(self._best_q_network)\n",
    "        self._rec_copy(self._target_q_network, self._best_q_network)\n",
    "\n",
    "    def _update_best_q_network(self):\n",
    "        \"\"\"This function updates best network in each target update period.\"\"\"\n",
    "        self._best_q_network.copy_params(self._q_network)\n",
    "        self._rec_copy(self._best_q_network, self._q_network)\n",
    "\n",
    "    @decorator([\"epoch\", \"epoch_step\", \"random_step\", \"test_step\"])\n",
    "    def fit(self, epoch=1, epoch_step=250000, random_step=50000,\n",
    "            batch_size=None, test_step=None,\n",
    "            update_period=None, train_frequency=None,\n",
    "            optimizer=None, gamma=None, buffer=None,\n",
    "            node_selector=None, test_node_selector=None,\n",
    "            action_filter=None, test_action_filter=None,\n",
    "            gradient_clipping=None, loss_func=None, initialize=None):\n",
    "\n",
    "        # acquiring arguments as local variables\n",
    "        epoch = fix_instance2(epoch, int, \"epoch\", positive=True, non_neg=True)\n",
    "        epoch_step = fix_instance2(epoch_step, int, \"epoch_step\", positive=True, non_neg=True)\n",
    "        random_step = fix_instance2(random_step, int, \"random_step\", positive=True)\n",
    "        test_step = fix_instance(test_step, None, None, \"test_step\", positive=True, non_neg=True)\n",
    "\n",
    "        _q_network = self._q_network\n",
    "        target_q_network = self._target_q_network\n",
    "        best_q_network = self._best_q_network\n",
    "        env = self._env\n",
    "        test_env = self._test_env\n",
    "        logger = self._logger\n",
    "        self._action_filter_during_fit = action_filter\n",
    "\n",
    "        buffer([1, ], test_env.state_shape)\n",
    "        buffer.set_network(_q_network,target_q_network,gamma)\n",
    "        \n",
    "        buffer2 = ReplayBuffer()\n",
    "        buffer2([1, ], test_env.state_shape)\n",
    "        buffer.set_network(_q_network,target_q_network,gamma)\n",
    "        \n",
    "        loss_func = fix_loss_function(loss_func, rm.ClippedMeanSquaredError())\n",
    "        # Reset Model\n",
    "        if initialize:\n",
    "            self._initializer()\n",
    "\n",
    "        # random step phase\n",
    "        print(\"Run random {} step for storing experiences\".format(random_step))\n",
    "\n",
    "        state = env.reset()\n",
    "\n",
    "        # env start(after reset)\n",
    "        env.start()\n",
    "\n",
    "        for i in range(1, random_step + 1):\n",
    "            action = env.sample()\n",
    "            next_state, reward, terminal = env.step(action)\n",
    "            \n",
    "#             if state[0] > 0:\n",
    "            if env.mode > 0:\n",
    "                buffer.store(state, np.array(action),\n",
    "                             np.array(reward), next_state, np.array(terminal))\n",
    "            else:\n",
    "                buffer2.store(state, np.array(action),\n",
    "                             np.array(reward), next_state, np.array(terminal))\n",
    "            state = next_state\n",
    "            if terminal:\n",
    "                state = env.reset()\n",
    "\n",
    "        # History of Learning\n",
    "        max_reward_in_each_update_period = -np.Inf\n",
    "\n",
    "        count = 0  # update period\n",
    "        step_count = 0  # steps\n",
    "        episode_count = 0  # episodes\n",
    "\n",
    "        # 1 epoch stores multiple epoch steps thus 1 epoch can hold multiple episodes\n",
    "        for e in range(1, epoch + 1):\n",
    "            continuous_step = 0\n",
    "            continuous_step_log = 0\n",
    "            sum_reward = 0\n",
    "            sum_reward_log = 0\n",
    "            nth_episode = 0\n",
    "\n",
    "            logger.start(epoch_step)\n",
    "\n",
    "            # env epoch\n",
    "            env.epoch()\n",
    "\n",
    "            state = env.reset()\n",
    "            loss = 0\n",
    "\n",
    "            for j in range(epoch_step):\n",
    "                # for stop epoch after 1 step\n",
    "                if j and env.stop_epoch():\n",
    "                    continue\n",
    "\n",
    "                # set action\n",
    "                act = self._action(state, node_selector, env)\n",
    "                action = action_filter(act, env.sample(),\n",
    "                                       step=step_count, episode=episode_count, epoch=e)\n",
    "                greedy = action_filter.value()\n",
    "\n",
    "                # pass it to env\n",
    "                next_state, reward, terminal = env.step(action)\n",
    "\n",
    "#                 if state[0] > 0:\n",
    "                if env.mode > 0:\n",
    "                    buffer.store(state, np.array(action),\n",
    "                             np.array(reward), next_state, np.array(terminal))\n",
    "                else:\n",
    "                    buffer2.store(state, np.array(action),\n",
    "                                 np.array(reward), next_state, np.array(terminal))\n",
    "\n",
    "               # env epoch step\n",
    "                env.epoch_step()\n",
    "\n",
    "                sum_reward += reward\n",
    "\n",
    "                if j % train_frequency == 0 and j:\n",
    "#                     if len(buffer) > batch_size:\n",
    "                    if len(buffer) > batch_size//2 and len(buffer2) > batch_size//2:\n",
    "                        train_prestate1, train_action1, train_reward1, train_state1, train_terminal1 = \\\n",
    "                            buffer.get_minibatch(batch_size//2)\n",
    "                        \n",
    "                        train_prestate2, train_action2, train_reward2, train_state2, train_terminal2 = \\\n",
    "                            buffer2.get_minibatch(batch_size//2)\n",
    "                        \n",
    "                        train_prestate = np.concatenate((train_prestate1,train_prestate2))\n",
    "                        train_action = np.concatenate((train_action1,train_action2))\n",
    "                        train_reward = np.concatenate((train_reward1,train_reward2))\n",
    "                        train_state = np.concatenate((train_state1,train_state2))\n",
    "                        train_terminal = np.concatenate((train_terminal1,train_terminal2))\n",
    "\n",
    "#                         train_prestate = train_prestate1\n",
    "#                         train_action = train_action1\n",
    "#                         train_reward = train_reward1\n",
    "#                         train_state = train_state1\n",
    "#                         train_terminal = train_terminal1\n",
    "                        \n",
    "                        \n",
    "\n",
    "                        # getting q values as target reference\n",
    "                        _q_network.set_models(inference=True)\n",
    "                        target_q_network.set_models(inference=True)\n",
    "\n",
    "                        target = self._q_network(train_prestate, train_action).as_ndarray()\n",
    "\n",
    "                        target.setflags(write=True)\n",
    "                        \n",
    "                        \n",
    "                        n_action=np.zeros((batch_size,1))\n",
    "                        for i in range(batch_size):\n",
    "                            val_i = self._target_q_network(np.array([train_state[i] for _ in range(*env.action_shape)]), np.array(np.arange(*env.action_shape)).reshape(-1,1)).as_ndarray()\n",
    "                            n_action[i] = np.argmax(val_i.reshape(-1))\n",
    "                        \n",
    "                        \n",
    "                        \n",
    "                        value = self._target_q_network(train_state, n_action).as_ndarray()\\\n",
    "                                        * gamma * (~train_terminal[:, None])\n",
    "                        \n",
    "#                         max_q_action = np.argmax(_q_network(train_state).as_ndarray(), axis=1)\n",
    "#                         value = target_q_network(train_state).as_ndarray()[(range(len(train_state)),\n",
    "#                                                                             max_q_action)][:, None] * gamma * (~train_terminal[:, None])\n",
    "\n",
    "                        # getting target value\n",
    "                        for i in range(batch_size):\n",
    "                            target[i] = train_reward[i] + value[i]\n",
    "\n",
    "                        # train\n",
    "                        _q_network.set_models(inference=False)\n",
    "                        with _q_network.train():\n",
    "                            z = self._q_network(train_prestate,train_action)\n",
    "                            ls = loss_func(z, target)\n",
    "                        grad = ls.grad()\n",
    "\n",
    "                        if gradient_clipping:\n",
    "                            gradient_clipping(grad)\n",
    "\n",
    "                        grad.update(optimizer)\n",
    "                        loss = np.sum(ls.as_ndarray())\n",
    "                        buffer.update()\n",
    "                        # train_loss += loss\n",
    "\n",
    "                if count % update_period == 0 and count:\n",
    "                    max_reward_in_each_update_period = -np.Inf\n",
    "                    self._update()\n",
    "                    count = 0\n",
    "                count += 1\n",
    "\n",
    "                # terminal reset\n",
    "                if terminal:\n",
    "                    if max_reward_in_each_update_period <= sum_reward:\n",
    "                        self._update_best_q_network()\n",
    "                        max_reward_in_each_update_period = sum_reward\n",
    "\n",
    "                    # train_sum_rewards_in_each_episode.append(sum_reward)\n",
    "                    # hold log values\n",
    "                    sum_reward_log = sum_reward\n",
    "                    continuous_step_log = continuous_step\n",
    "                    # reset log values\n",
    "                    sum_reward = 0\n",
    "                    continuous_step = 0\n",
    "                    # increment episode values\n",
    "                    nth_episode += 1\n",
    "                    episode_count += 1\n",
    "\n",
    "                    env.reset()\n",
    "\n",
    "                logger.update(1)\n",
    "                logger.logger(state=state, action=action, reward=reward,\n",
    "                              terminal=terminal, next_state=next_state,\n",
    "                              total_step=step_count, epoch_step=j, max_step=epoch_step,\n",
    "                              total_episode=episode_count, epoch_episode=nth_episode, steps_per_episode=continuous_step_log,\n",
    "                              epoch=e, max_epoch=epoch, loss=loss,\n",
    "                              sum_reward=sum_reward_log, epsilon=greedy)\n",
    "                # self.logger.update(1)\n",
    "\n",
    "                continuous_step += 1\n",
    "                step_count += 1\n",
    "                state = next_state\n",
    "\n",
    "                # if terminate executes, then do execute \"continue\"\n",
    "                if env.terminate() or env.terminate_epoch():\n",
    "                    break\n",
    "\n",
    "            else:\n",
    "                summed_test_reward = self.test(test_step, test_action_filter, test_node_selector)\n",
    "                logger.logger_epoch(total_episode=episode_count, epoch_episode=nth_episode,\n",
    "                                    epoch=e, max_epoch=epoch, test_reward=summed_test_reward, epsilon=greedy)\n",
    "                logger.close()\n",
    "                continue\n",
    "\n",
    "            logger.close()\n",
    "            if env.terminate():\n",
    "                break\n",
    "\n",
    "        # env close\n",
    "        env.close()\n",
    "\n",
    "    @test_decorator\n",
    "    def test(self, test_step=None, action_filter=None, node_selector=None):\n",
    "        \"\"\"\n",
    "        Test the trained agent.\n",
    "        Refer to ``DQN`` for other argument descriptions.\n",
    "\n",
    "        Args:\n",
    "            test_step (int, None): Number of steps (not episodes) for test. If None is given, this method tests execute only 1 episode.\n",
    "\n",
    "        Returns:\n",
    "            Sum of rewards. (float)\n",
    "        \"\"\"\n",
    "        env = self._test_env\n",
    "        # if filter_obj argument was specified, the change the object\n",
    "        test_step = fix_instance(test_step, None, int, \"test_step\", positive=True, non_neg=True)\n",
    "        # action_filter = fix_instance(action_filter, self._test_action_filter,\n",
    "        #                              EpsilonGreedyFilter, \"action_filter\")\n",
    "        # node_selector = fix_instance(node_selector, self._test_node_selector,\n",
    "        #                              DiscreteNodeChooser, \"node_selector\")\n",
    "        action_filter.check_instance(self._action_filter_during_fit)\n",
    "\n",
    "        sum_reward = 0\n",
    "        env.test_start()\n",
    "        state = env.reset()\n",
    "\n",
    "        if test_step is None:\n",
    "            while True:\n",
    "                action = action_filter.test(self._action(\n",
    "                    state, node_selector, env), env.sample())\n",
    "\n",
    "                state, reward, terminal = env.step(action)\n",
    "\n",
    "                sum_reward += float(reward)\n",
    "\n",
    "                env.test_epoch_step()\n",
    "\n",
    "                if terminal or env.test_terminate():\n",
    "                    break\n",
    "\n",
    "        else:\n",
    "            for j in range(test_step):\n",
    "                action = action_filter.test(self._action(\n",
    "                    state, node_selector, env), env.sample())\n",
    "\n",
    "                state, reward, terminal = env.step(action)\n",
    "\n",
    "                sum_reward += float(reward)\n",
    "\n",
    "                env.test_epoch_step()\n",
    "\n",
    "                if terminal:\n",
    "                    env.reset()\n",
    "\n",
    "                if env.test_terminate():\n",
    "                    break\n",
    "\n",
    "        env.test_close()\n",
    "\n",
    "        return sum_reward\n"
   ]
  },
  {
   "cell_type": "code",
   "execution_count": 9,
   "metadata": {},
   "outputs": [],
   "source": [
    "from renom_rl.environ import BaseEnv\n",
    "# from renom_rl.discrete.dqn import DQN\n",
    "import renom as rm\n",
    "from renom_rl.utility.filter import EpsilonSLFilter"
   ]
  },
  {
   "cell_type": "markdown",
   "metadata": {},
   "source": [
    "# 4. Defining NN and Env"
   ]
  },
  {
   "cell_type": "code",
   "execution_count": 10,
   "metadata": {},
   "outputs": [],
   "source": [
    "from renom.utility.initializer import GlorotNormal\n",
    "\n",
    "class NN(rm.Model):\n",
    "    def __init__(self):\n",
    "        self.d1=rm.Dense(32)\n",
    "        self.d2=rm.Dense(32)\n",
    "        self.d3=rm.Dense(32)\n",
    "        self.d4=rm.Dense(1,initializer=GlorotNormal(gain=0.1))\n",
    "        \n",
    "        self.emb = rm.Embedding(32,6)\n",
    "        self.ad1 = rm.Dense(32)\n",
    "        self.r=rm.Relu()\n",
    "        \n",
    "    def forward(self,x,action):\n",
    "        h=self.d1(x)\n",
    "#         h=self.r(h)\n",
    "#         h=self.d2(h)\n",
    "#         h=self.r(h)\n",
    "        \n",
    "        a = self.emb(action)\n",
    "        a = self.r(a)\n",
    "        a = self.ad1(a)\n",
    "        a = self.r(a)\n",
    "        h = rm.concat(h,a)\n",
    "        h=self.d3(h)\n",
    "        h=self.r(h)\n",
    "        h=self.d4(h)\n",
    "        return h\n",
    "model=NN()"
   ]
  },
  {
   "cell_type": "code",
   "execution_count": 11,
   "metadata": {},
   "outputs": [],
   "source": [
    "class CustomerEnv(BaseEnv):\n",
    "    def __init__(self, dataset, randomness=True):\n",
    "        self.action_shape=(len(p1),)\n",
    "        self.state_shape=(3+len(p1)*2,)\n",
    "        \n",
    "        self.idx = 0\n",
    "        self.l = len(dataset)\n",
    "        self.randomness = randomness\n",
    "        self.in_data = dataset[:,0:3]\n",
    "        self.out_data = dataset[:,3:5]\n",
    "        self.mode = 0\n",
    "        self._a_list=[]\n",
    "\n",
    "        \n",
    "    def reset(self):\n",
    "        self._a_list = []\n",
    "        self.mode = 0\n",
    "        \n",
    "        if self.randomness:\n",
    "            self.idx = np.random.randint(self.l)\n",
    "        else:\n",
    "            self.inc()\n",
    "            \n",
    "        self.state = np.concatenate((self.in_data[self.idx],np.zeros((len(p1)*2,)))) \n",
    "    \n",
    "        return self.state\n",
    "        \n",
    "    def step(self,action):\n",
    "        target = self.out_data[self.idx,self.mode]\n",
    "\n",
    "        if action in self._a_list:\n",
    "            raise Exception(\"{} already in list\".format(action))\n",
    "\n",
    "        self._a_list.append(action)\n",
    "        \n",
    "        if self.mode == 0:\n",
    "            self.state[3+action]= -0.2#1 - (len(self._a_list)-1)*0.2\n",
    "        else:\n",
    "            self.state[3+len(p1)+action]= -0.2#1 - (len(self._a_list)-1)*0.2\n",
    "            \n",
    "        if target==action:\n",
    "            reward = 1 - (len(self._a_list) - 1)*0.2\n",
    "            \n",
    "#             self.state = np.concatenate((self.in_data[self.idx],np.zeros((len(p1)*2,))))\n",
    "            \n",
    "            if self.mode == 0:\n",
    "                self.state = np.concatenate((self.in_data[self.idx],np.zeros((len(p1)*2,))))\n",
    "                self.state[3+action]=1\n",
    "                self.state2 = self.state\n",
    "            else:\n",
    "                self.state = self.state2\n",
    "                self.state[3+len(p1)+action]=1\n",
    "                \n",
    "            self.mode += 1\n",
    "            self._a_list = []\n",
    "            terminal = True if self.mode > 1 else False\n",
    "            \n",
    "        else:\n",
    "            reward = -1 #1 - 0.2*(len(self._a_list)-1)\n",
    "            terminal = False\n",
    "        \n",
    "        return self.state, reward, terminal\n",
    "    \n",
    "    def avail(self):\n",
    "        a_list = np.array(self._a_list)\n",
    "        a_range = np.arange(*self.action_shape)\n",
    "        a_avail = np.where(np.isin(a_range,a_list),0,1)\n",
    "        return  a_avail\n",
    "    \n",
    "    def sample(self):\n",
    "        \n",
    "        a_avail = self.avail()\n",
    "        tot = a_avail.sum()\n",
    "        a_prob = a_avail/tot if tot > 0 else a_avail\n",
    "\n",
    "        return np.random.choice(len(a_prob),p=a_prob)\n",
    "    \n",
    "    def index(self,x):\n",
    "        self.idx=x\n",
    "        \n",
    "    def inc(self):\n",
    "        self.idx += 1\n",
    "        self.idx %= self.l\n",
    "    \n",
    "    def mask(self):\n",
    "        \n",
    "        return self.avail()\n",
    "\n",
    "train_env=CustomerEnv(dataset)\n",
    "test_env=CustomerEnv(dataset)"
   ]
  },
  {
   "cell_type": "markdown",
   "metadata": {},
   "source": [
    "# 5. Training"
   ]
  },
  {
   "cell_type": "code",
   "execution_count": 12,
   "metadata": {},
   "outputs": [],
   "source": [
    "dqn=DQN([train_env,test_env],\n",
    "        model,\n",
    "        gamma=0.8,\n",
    "        optimizer=rm.Adam(lr=0.001),\n",
    "        update_period=10,\n",
    "        batch_size=128,\n",
    "        action_filter=EpsilonSLFilter(epsilon_step=7500))"
   ]
  },
  {
   "cell_type": "code",
   "execution_count": 13,
   "metadata": {
    "scrolled": false
   },
   "outputs": [
    {
     "name": "stderr",
     "output_type": "stream",
     "text": [
      "epoch 0001 epsilon 0.9937 loss 0.0000 rewards in epoch -18.800 episode 0008 rewards in episode -5.200.:   0%|          | 48/10000 [00:00<00:45, 218.49it/s]"
     ]
    },
    {
     "name": "stdout",
     "output_type": "stream",
     "text": [
      "Run random 0 step for storing experiences\n"
     ]
    },
    {
     "name": "stderr",
     "output_type": "stream",
     "text": [
      "epoch 001 avg_loss:0.1101 total reward in epoch: [train:-128.800 test:-0.4] avg train reward in episode:-0.048 epsilon :0.000: 100%|██████████| 10000/10000 [03:36<00:00, 46.25it/s]\n"
     ]
    }
   ],
   "source": [
    "dqn.fit(epoch=1,epoch_step=10000,random_step=0)"
   ]
  },
  {
   "cell_type": "markdown",
   "metadata": {},
   "source": [
    "# 6. Result\n",
    "\n",
    "Here we show the reward for each epsiode."
   ]
  },
  {
   "cell_type": "markdown",
   "metadata": {},
   "source": [
    "### Reward Graph"
   ]
  },
  {
   "cell_type": "code",
   "execution_count": 14,
   "metadata": {
    "scrolled": false
   },
   "outputs": [
    {
     "data": {
      "image/png": "[encoded data removed]",
      "text/plain": [
       "<Figure size 432x288 with 1 Axes>"
      ]
     },
     "metadata": {
      "needs_background": "light"
     },
     "output_type": "display_data"
    }
   ],
   "source": [
    "dqn._logger.graph(\"sum_reward\",average_range=[3,3])"
   ]
  },
  {
   "cell_type": "markdown",
   "metadata": {},
   "source": [
    "### Histogram"
   ]
  },
  {
   "cell_type": "code",
   "execution_count": 15,
   "metadata": {
    "scrolled": false
   },
   "outputs": [
    {
     "data": {
      "text/plain": [
       "(array([1.000e+00, 3.000e+00, 5.000e+00, 1.300e+01, 3.300e+01, 3.600e+01,\n",
       "        7.300e+01, 0.000e+00, 1.160e+02, 1.418e+03]),\n",
       " array([-10. ,  -8.8,  -7.6,  -6.4,  -5.2,  -4. ,  -2.8,  -1.6,  -0.4,\n",
       "          0.8,   2. ]),\n",
       " <a list of 10 Patch objects>)"
      ]
     },
     "execution_count": 15,
     "metadata": {},
     "output_type": "execute_result"
    },
    {
     "data": {
      "image/png": "[encoded data removed]",
      "text/plain": [
       "<Figure size 432x288 with 1 Axes>"
      ]
     },
     "metadata": {
      "needs_background": "light"
     },
     "output_type": "display_data"
    }
   ],
   "source": [
    "import matplotlib.pyplot as plt\n",
    "\n",
    "plt.hist(dqn._logger.result()[\"sum_reward\"][1000:])"
   ]
  },
  {
   "cell_type": "markdown",
   "metadata": {},
   "source": [
    "# 7. Discussion"
   ]
  },
  {
   "cell_type": "markdown",
   "metadata": {},
   "source": [
    "From the reward graph, we can observe the agent is making multiple mistakes in the beginning, but as it experience more steps, the agent gradually generates better reward value per episode.    \n",
    "The histogram of the reward represents the frequency of the total reward. From the reward graph, it might be seen as an oscilating graph, but from the histogram, we can observe that the agent is scoring +2 reward frequently, thus we can tell the agent is scoring good during training."
   ]
  },
  {
   "cell_type": "code",
   "execution_count": 16,
   "metadata": {},
   "outputs": [],
   "source": [
    "a1=softmax(model(np.array([[-1,-1,-1]+[0,0,0,0,0,0]+[0,0,0,0,0,0] for _ in range(6)]),np.arange(6)[...,None]).reshape(-1))\n",
    "a2=softmax(model(np.array([[1,1,1]+[0,0,0,0,0,0]+[0,0,0,0,0,0] for _ in range(6)]),np.arange(6)[...,None]).reshape(-1))"
   ]
  },
  {
   "cell_type": "code",
   "execution_count": 17,
   "metadata": {},
   "outputs": [
    {
     "name": "stdout",
     "output_type": "stream",
     "text": [
      "[0.3897655  0.13021943 0.11363699 0.11274115 0.12422279 0.1294141 ]\n",
      "[0.1349114  0.33238193 0.13145547 0.12993436 0.13300402 0.13831288]\n",
      "0 0\n",
      "1 1\n"
     ]
    }
   ],
   "source": [
    "print(a1)\n",
    "print(a2)\n",
    "print(0,np.argmax(a1))\n",
    "print(1,np.argmax(a2))"
   ]
  },
  {
   "cell_type": "code",
   "execution_count": 18,
   "metadata": {},
   "outputs": [
    {
     "name": "stdout",
     "output_type": "stream",
     "text": [
      "for 0 0 1 a1: [ 0.39321107 -0.47344458 -0.5876538  -0.6136945  -0.48467445 -0.5514525 ]\n",
      "for 1 0 1 a1: [ 0.24895252 -0.22121696 -0.6695851  -0.73771274 -0.6312289  -0.64413404]\n",
      "for 2 2 2 a1: [-2.6231182 -2.9861617 -2.477971  -2.5940533 -2.5282633 -2.7015915]\n",
      "for 3 5 3 a1: [-2.5301843 -2.9133596 -2.5365868 -2.4685    -2.5558426 -2.4520617]\n",
      "for 4 4 2 a1: [-2.205438  -2.5811965 -2.0954258 -2.127857  -2.0785534 -2.350949 ]\n",
      "for 5 5 5 a1: [-0.522058   -0.9543599  -0.6887866  -0.52657056 -0.8144947  -0.20741211]\n"
     ]
    }
   ],
   "source": [
    "\n",
    "def result(x):\n",
    "    return np.argmax(softmax(model(np.array([x for _ in range(6)]),np.arange(6)[...,None]).reshape(-1)))\n",
    "\n",
    "# a1=softmax(model(np.array([-3,-3,-3]+[0,0,0,0,1,0]+[0,0,0,0,0,0])[None,...]))\n",
    "# a2=softmax(model(np.array([3,3,3]+[0,0,0,0,1,0]+[0,0,0,0,0,0])[None,...]))\n",
    "\n",
    "\n",
    "for i in range(6):\n",
    "    \n",
    "    z1 = [0 for _ in range(6)] \n",
    "    z2 = [0 for _ in range(6)] \n",
    "    z1[i] = 1\n",
    "    \n",
    "#     a1 = [-1,-1,-1] + z1 + z2\n",
    "#     a2 = [1,1,1] + z1 + z2\n",
    "    a1 = np.concatenate((x1[0],z1,z2))\n",
    "    a2 = np.concatenate((x2[0],z1,z2))\n",
    "    print(\"for {}\".format(i),result(a1),result(a2),\"a1:\",model(np.array([a1 for _ in range(6)]),np.arange(6)[...,None]).reshape(-1))\n"
   ]
  },
  {
   "cell_type": "code",
   "execution_count": 19,
   "metadata": {},
   "outputs": [
    {
     "data": {
      "text/plain": [
       "array([-1.32568918, -0.70079637, -0.91510645])"
      ]
     },
     "execution_count": 19,
     "metadata": {},
     "output_type": "execute_result"
    }
   ],
   "source": [
    "x1[0]"
   ]
  },
  {
   "cell_type": "code",
   "execution_count": 20,
   "metadata": {},
   "outputs": [
    {
     "data": {
      "text/plain": [
       "array([1.46727211, 1.4927495 , 0.84187242])"
      ]
     },
     "execution_count": 20,
     "metadata": {},
     "output_type": "execute_result"
    }
   ],
   "source": [
    "x2[0]"
   ]
  },
  {
   "cell_type": "code",
   "execution_count": null,
   "metadata": {},
   "outputs": [],
   "source": []
  }
 ],
 "metadata": {
  "kernelspec": {
   "display_name": "Python 3",
   "language": "python",
   "name": "python3"
  },
  "language_info": {
   "codemirror_mode": {
    "name": "ipython",
    "version": 3
   },
   "file_extension": ".py",
   "mimetype": "text/x-python",
   "name": "python",
   "nbconvert_exporter": "python",
   "pygments_lexer": "ipython3",
   "version": "3.7.4"
  }
 },
 "nbformat": 4,
 "nbformat_minor": 2
}
